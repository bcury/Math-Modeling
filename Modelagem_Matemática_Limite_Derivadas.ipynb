{
  "nbformat": 4,
  "nbformat_minor": 0,
  "metadata": {
    "colab": {
      "name": "Modelagem_Matemática_Limite_Derivadas",
      "provenance": [],
      "collapsed_sections": [],
      "authorship_tag": "ABX9TyMFwVDyvyR2Xrro+7H41EPY",
      "include_colab_link": true
    },
    "kernelspec": {
      "name": "python3",
      "display_name": "Python 3"
    },
    "language_info": {
      "name": "python"
    }
  },
  "cells": [
    {
      "cell_type": "markdown",
      "metadata": {
        "id": "view-in-github",
        "colab_type": "text"
      },
      "source": [
        "<a href=\"https://colab.research.google.com/github/bcury/Math-Modeling/blob/main/Modelagem_Matem%C3%A1tica_Limite_Derivadas.ipynb\" target=\"_parent\"><img src=\"https://colab.research.google.com/assets/colab-badge.svg\" alt=\"Open In Colab\"/></a>"
      ]
    },
    {
      "cell_type": "code",
      "execution_count": 1,
      "metadata": {
        "id": "u9burpOHHqe2"
      },
      "outputs": [],
      "source": [
        "import sympy as sp"
      ]
    },
    {
      "cell_type": "code",
      "source": [
        "x, y, z = sp.symbols('x,y,z')"
      ],
      "metadata": {
        "id": "kzApYNJfMGyH"
      },
      "execution_count": 2,
      "outputs": []
    },
    {
      "cell_type": "code",
      "source": [
        "expressao = x**2 + 2*x -5\n",
        "expressao"
      ],
      "metadata": {
        "colab": {
          "base_uri": "https://localhost:8080/",
          "height": 39
        },
        "id": "p2MQeQBEMfQw",
        "outputId": "72a005f4-2502-4a5e-e548-e82ad9a80780"
      },
      "execution_count": 5,
      "outputs": [
        {
          "output_type": "execute_result",
          "data": {
            "text/latex": "$\\displaystyle x^{2} + 2 x - 5$",
            "text/plain": [
              "x**2 + 2*x - 5"
            ]
          },
          "metadata": {},
          "execution_count": 5
        }
      ]
    },
    {
      "cell_type": "markdown",
      "source": [
        "solução"
      ],
      "metadata": {
        "id": "zBbNHv0FNPFY"
      }
    },
    {
      "cell_type": "code",
      "source": [
        "sp.solve(expressao)"
      ],
      "metadata": {
        "colab": {
          "base_uri": "https://localhost:8080/"
        },
        "id": "WPmdH-i-Mo8k",
        "outputId": "8f402558-4224-45dc-d7bc-9a841f1f7aee"
      },
      "execution_count": 6,
      "outputs": [
        {
          "output_type": "execute_result",
          "data": {
            "text/plain": [
              "[-1 + sqrt(6), -sqrt(6) - 1]"
            ]
          },
          "metadata": {},
          "execution_count": 6
        }
      ]
    },
    {
      "cell_type": "code",
      "source": [
        "sp.factor(expressao)"
      ],
      "metadata": {
        "colab": {
          "base_uri": "https://localhost:8080/",
          "height": 39
        },
        "id": "OP6BvqnqM-Lb",
        "outputId": "52bf71b3-7452-4f6c-c730-4ca9025dcb65"
      },
      "execution_count": 7,
      "outputs": [
        {
          "output_type": "execute_result",
          "data": {
            "text/latex": "$\\displaystyle x^{2} + 2 x - 5$",
            "text/plain": [
              "x**2 + 2*x - 5"
            ]
          },
          "metadata": {},
          "execution_count": 7
        }
      ]
    },
    {
      "cell_type": "markdown",
      "source": [
        "Limite"
      ],
      "metadata": {
        "id": "eFO6vLeiNQ0P"
      }
    },
    {
      "cell_type": "code",
      "source": [
        "sp.limit(expressao,x,0) # tende a 0"
      ],
      "metadata": {
        "colab": {
          "base_uri": "https://localhost:8080/",
          "height": 37
        },
        "id": "Nnwh-N4mNIVs",
        "outputId": "38b7dce6-3f04-437c-d41f-8011c37076a8"
      },
      "execution_count": 10,
      "outputs": [
        {
          "output_type": "execute_result",
          "data": {
            "text/latex": "$\\displaystyle -5$",
            "text/plain": [
              "-5"
            ]
          },
          "metadata": {},
          "execution_count": 10
        }
      ]
    },
    {
      "cell_type": "markdown",
      "source": [
        "Derivada"
      ],
      "metadata": {
        "id": "E5CDtC9NNzhp"
      }
    },
    {
      "cell_type": "code",
      "source": [
        "sp.diff(expressao,x)"
      ],
      "metadata": {
        "colab": {
          "base_uri": "https://localhost:8080/",
          "height": 39
        },
        "id": "qb7JolqINbC_",
        "outputId": "6a828731-2884-44a7-c39e-0d185975b250"
      },
      "execution_count": 11,
      "outputs": [
        {
          "output_type": "execute_result",
          "data": {
            "text/latex": "$\\displaystyle 2 x + 2$",
            "text/plain": [
              "2*x + 2"
            ]
          },
          "metadata": {},
          "execution_count": 11
        }
      ]
    }
  ]
}