{
  "nbformat": 4,
  "nbformat_minor": 0,
  "metadata": {
    "colab": {
      "name": "Modelagem_Matemática_[Vetores,Matrizes Determinante]",
      "provenance": [],
      "collapsed_sections": [],
      "authorship_tag": "ABX9TyPled2mTMv5ImxT6PtMBB8a",
      "include_colab_link": true
    },
    "kernelspec": {
      "name": "python3",
      "display_name": "Python 3"
    },
    "language_info": {
      "name": "python"
    }
  },
  "cells": [
    {
      "cell_type": "markdown",
      "metadata": {
        "id": "view-in-github",
        "colab_type": "text"
      },
      "source": [
        "<a href=\"https://colab.research.google.com/github/bcury/Math-Modeling/blob/main/Modelagem_Matem%C3%A1tica_%5BVetores%2CMatrizes_Determinante%5D.ipynb\" target=\"_parent\"><img src=\"https://colab.research.google.com/assets/colab-badge.svg\" alt=\"Open In Colab\"/></a>"
      ]
    },
    {
      "cell_type": "markdown",
      "source": [
        "**Álgebra linear**"
      ],
      "metadata": {
        "id": "zla6OXcvlks2"
      }
    },
    {
      "cell_type": "markdown",
      "source": [
        "- Vetores"
      ],
      "metadata": {
        "id": "CGO5qruAmOS-"
      }
    },
    {
      "cell_type": "code",
      "execution_count": 1,
      "metadata": {
        "id": "SSN46UP9VX8e"
      },
      "outputs": [],
      "source": [
        "import numpy as np\n",
        "import pandas as pd\n",
        "import matplotlib.pyplot as plt\n",
        "import seaborn as sns"
      ]
    },
    {
      "cell_type": "code",
      "source": [
        "v = [2,-4,1]"
      ],
      "metadata": {
        "id": "onlKaufSq-s4"
      },
      "execution_count": 2,
      "outputs": []
    },
    {
      "cell_type": "code",
      "source": [
        "type(v)"
      ],
      "metadata": {
        "colab": {
          "base_uri": "https://localhost:8080/"
        },
        "id": "kEynXpy6rDsH",
        "outputId": "c8d0d68e-e7ca-46b2-eddd-9eeb54337525"
      },
      "execution_count": 3,
      "outputs": [
        {
          "output_type": "execute_result",
          "data": {
            "text/plain": [
              "list"
            ]
          },
          "metadata": {},
          "execution_count": 3
        }
      ]
    },
    {
      "cell_type": "code",
      "source": [
        "v = np.array(v)"
      ],
      "metadata": {
        "id": "YnZ73BC8rFmY"
      },
      "execution_count": 4,
      "outputs": []
    },
    {
      "cell_type": "code",
      "source": [
        "type(v)"
      ],
      "metadata": {
        "colab": {
          "base_uri": "https://localhost:8080/"
        },
        "id": "OWqMdblVrKLI",
        "outputId": "23d10aa8-887a-4b6c-fb0e-6c67e7e17830"
      },
      "execution_count": 5,
      "outputs": [
        {
          "output_type": "execute_result",
          "data": {
            "text/plain": [
              "numpy.ndarray"
            ]
          },
          "metadata": {},
          "execution_count": 5
        }
      ]
    },
    {
      "cell_type": "code",
      "source": [
        "v.shape"
      ],
      "metadata": {
        "colab": {
          "base_uri": "https://localhost:8080/"
        },
        "id": "Ptz8fODfrLTT",
        "outputId": "d2877a56-1954-47f2-8251-ea34f9bbbb4b"
      },
      "execution_count": 6,
      "outputs": [
        {
          "output_type": "execute_result",
          "data": {
            "text/plain": [
              "(3,)"
            ]
          },
          "metadata": {},
          "execution_count": 6
        }
      ]
    },
    {
      "cell_type": "code",
      "source": [
        "u = np.array([3,2,-5])"
      ],
      "metadata": {
        "id": "LXRJW0abrQnh"
      },
      "execution_count": 7,
      "outputs": []
    },
    {
      "cell_type": "code",
      "source": [
        "u"
      ],
      "metadata": {
        "colab": {
          "base_uri": "https://localhost:8080/"
        },
        "id": "GsuIpFgmrXwS",
        "outputId": "af7b2262-f1ac-4470-85cb-998e24bb5aac"
      },
      "execution_count": 8,
      "outputs": [
        {
          "output_type": "execute_result",
          "data": {
            "text/plain": [
              "array([ 3,  2, -5])"
            ]
          },
          "metadata": {},
          "execution_count": 8
        }
      ]
    },
    {
      "cell_type": "code",
      "source": [
        "u[0]"
      ],
      "metadata": {
        "colab": {
          "base_uri": "https://localhost:8080/"
        },
        "id": "cheHAcQkrY-o",
        "outputId": "b7788704-b723-4390-dfb4-c4a9ccfe1d61"
      },
      "execution_count": 9,
      "outputs": [
        {
          "output_type": "execute_result",
          "data": {
            "text/plain": [
              "3"
            ]
          },
          "metadata": {},
          "execution_count": 9
        }
      ]
    },
    {
      "cell_type": "code",
      "source": [
        "v[1]"
      ],
      "metadata": {
        "colab": {
          "base_uri": "https://localhost:8080/"
        },
        "id": "E-OHOkjQrkms",
        "outputId": "6b81e27f-15b7-441c-9a6d-8935d0a28a85"
      },
      "execution_count": 10,
      "outputs": [
        {
          "output_type": "execute_result",
          "data": {
            "text/plain": [
              "-4"
            ]
          },
          "metadata": {},
          "execution_count": 10
        }
      ]
    },
    {
      "cell_type": "markdown",
      "source": [
        "Soma dos Vetores"
      ],
      "metadata": {
        "id": "O9gkQFvEr0fd"
      }
    },
    {
      "cell_type": "code",
      "source": [
        "soma = v + u\n",
        "soma"
      ],
      "metadata": {
        "colab": {
          "base_uri": "https://localhost:8080/"
        },
        "id": "__fR9sv_rnQ1",
        "outputId": "8d2089fa-c8b0-40fa-abf4-7fd9f90b2af9"
      },
      "execution_count": 11,
      "outputs": [
        {
          "output_type": "execute_result",
          "data": {
            "text/plain": [
              "array([ 5, -2, -4])"
            ]
          },
          "metadata": {},
          "execution_count": 11
        }
      ]
    },
    {
      "cell_type": "markdown",
      "source": [
        "Produto Interno"
      ],
      "metadata": {
        "id": "FzX_k9Kbs8mw"
      }
    },
    {
      "cell_type": "code",
      "source": [
        "v * u #multiplicação só"
      ],
      "metadata": {
        "colab": {
          "base_uri": "https://localhost:8080/"
        },
        "id": "tO3pzYE-s13g",
        "outputId": "825c9c71-b882-4628-83e5-4a8c121026f9"
      },
      "execution_count": 12,
      "outputs": [
        {
          "output_type": "execute_result",
          "data": {
            "text/plain": [
              "array([ 6, -8, -5])"
            ]
          },
          "metadata": {},
          "execution_count": 12
        }
      ]
    },
    {
      "cell_type": "code",
      "source": [
        "produto_interno = 0\n",
        "for i in range (len(v)):\n",
        "  produto_interno = produto_interno + v[i] * u[i]\n",
        "  i = i + 1\n",
        "print(produto_interno)"
      ],
      "metadata": {
        "colab": {
          "base_uri": "https://localhost:8080/"
        },
        "id": "sKCXSxiWudat",
        "outputId": "13324319-fa4d-4bc5-ed12-389bcab5fb81"
      },
      "execution_count": 13,
      "outputs": [
        {
          "output_type": "stream",
          "name": "stdout",
          "text": [
            "-7\n"
          ]
        }
      ]
    },
    {
      "cell_type": "markdown",
      "source": [
        "Multiplicação por escalar"
      ],
      "metadata": {
        "id": "r1ceTwLRB5_R"
      }
    },
    {
      "cell_type": "code",
      "source": [
        "multiplicacao = 5 * v\n",
        "multiplicacao"
      ],
      "metadata": {
        "colab": {
          "base_uri": "https://localhost:8080/"
        },
        "id": "plgoG8kEBxJk",
        "outputId": "a2867452-2849-40b6-9213-007f35cb2e24"
      },
      "execution_count": 14,
      "outputs": [
        {
          "output_type": "execute_result",
          "data": {
            "text/plain": [
              "array([ 10, -20,   5])"
            ]
          },
          "metadata": {},
          "execution_count": 14
        }
      ]
    },
    {
      "cell_type": "code",
      "source": [
        "multiplicacao2 = 5 * u\n",
        "multiplicacao2"
      ],
      "metadata": {
        "colab": {
          "base_uri": "https://localhost:8080/"
        },
        "id": "2TZ6_dMuCB-s",
        "outputId": "6dbf18a3-8207-4f98-d194-bb7a07578a62"
      },
      "execution_count": 15,
      "outputs": [
        {
          "output_type": "execute_result",
          "data": {
            "text/plain": [
              "array([ 15,  10, -25])"
            ]
          },
          "metadata": {},
          "execution_count": 15
        }
      ]
    },
    {
      "cell_type": "markdown",
      "source": [
        "Distância entre valores"
      ],
      "metadata": {
        "id": "r5MqNcJSCKlD"
      }
    },
    {
      "cell_type": "code",
      "source": [
        "#devemos criar uma função"
      ],
      "metadata": {
        "id": "vF0Lbo_GCIcB"
      },
      "execution_count": 16,
      "outputs": []
    },
    {
      "cell_type": "code",
      "source": [
        "def dist (vetor1, vetor2):\n",
        "  soma_quadrado = 0\n",
        "  for i in range (len(v)):\n",
        "    soma_quadrado = soma_quadrado + (v[i] - u[i])**2\n",
        "    i = i + 1\n",
        "  dist = soma_quadrado**(1/2)\n",
        "  print(' a dist entre os vetores é', dist)"
      ],
      "metadata": {
        "id": "K3Hka98BCUhD"
      },
      "execution_count": 17,
      "outputs": []
    },
    {
      "cell_type": "code",
      "source": [
        "dist(v, u)"
      ],
      "metadata": {
        "colab": {
          "base_uri": "https://localhost:8080/"
        },
        "id": "PjHBJKHnDMhu",
        "outputId": "d517bf4c-4126-4af9-84ed-972bb62e2d5f"
      },
      "execution_count": 18,
      "outputs": [
        {
          "output_type": "stream",
          "name": "stdout",
          "text": [
            " a dist entre os vetores é 8.54400374531753\n"
          ]
        }
      ]
    },
    {
      "cell_type": "markdown",
      "source": [
        "Norma"
      ],
      "metadata": {
        "id": "WCO8zgSJJroO"
      }
    },
    {
      "cell_type": "code",
      "source": [
        "np.linalg.norm(v)"
      ],
      "metadata": {
        "colab": {
          "base_uri": "https://localhost:8080/"
        },
        "id": "RpeB48kXIz0A",
        "outputId": "ad52244c-a16c-4492-e19b-7c14dc61761a"
      },
      "execution_count": 19,
      "outputs": [
        {
          "output_type": "execute_result",
          "data": {
            "text/plain": [
              "4.58257569495584"
            ]
          },
          "metadata": {},
          "execution_count": 19
        }
      ]
    },
    {
      "cell_type": "code",
      "source": [
        "np.linalg.norm(u)"
      ],
      "metadata": {
        "colab": {
          "base_uri": "https://localhost:8080/"
        },
        "id": "exCw7Bw9J0gC",
        "outputId": "f982f7ae-6b80-49e2-a56a-a35d9adb98a4"
      },
      "execution_count": 20,
      "outputs": [
        {
          "output_type": "execute_result",
          "data": {
            "text/plain": [
              "6.164414002968976"
            ]
          },
          "metadata": {},
          "execution_count": 20
        }
      ]
    },
    {
      "cell_type": "code",
      "source": [
        "w = np.array([2,4,6,8,10,12])\n",
        "w"
      ],
      "metadata": {
        "colab": {
          "base_uri": "https://localhost:8080/"
        },
        "id": "2OAiEGMRJ3hP",
        "outputId": "ebe89b6e-eecb-4dfa-e74b-a88db8664d2c"
      },
      "execution_count": 21,
      "outputs": [
        {
          "output_type": "execute_result",
          "data": {
            "text/plain": [
              "array([ 2,  4,  6,  8, 10, 12])"
            ]
          },
          "metadata": {},
          "execution_count": 21
        }
      ]
    },
    {
      "cell_type": "code",
      "source": [
        "np.linalg.norm(w)"
      ],
      "metadata": {
        "colab": {
          "base_uri": "https://localhost:8080/"
        },
        "id": "7TIR9tqEKCLn",
        "outputId": "98c3678e-bff5-4907-82b1-1a8ce5bcae53"
      },
      "execution_count": 22,
      "outputs": [
        {
          "output_type": "execute_result",
          "data": {
            "text/plain": [
              "19.078784028338912"
            ]
          },
          "metadata": {},
          "execution_count": 22
        }
      ]
    },
    {
      "cell_type": "markdown",
      "source": [
        "Representação Geométrica"
      ],
      "metadata": {
        "id": "QA9CsTT0KQEJ"
      }
    },
    {
      "cell_type": "code",
      "source": [
        "m = np.array([4,5])"
      ],
      "metadata": {
        "id": "LUtYuAiSKG0S"
      },
      "execution_count": 23,
      "outputs": []
    },
    {
      "cell_type": "code",
      "source": [
        "n = np.array([-2,5])"
      ],
      "metadata": {
        "id": "ofC7uQUtKlLo"
      },
      "execution_count": 24,
      "outputs": []
    },
    {
      "cell_type": "code",
      "source": [
        "soma = []\n",
        "for i in range (len(m)):\n",
        "    soma.append(m[i] + n[i])\n",
        "    i = i + 1\n",
        "print(soma)"
      ],
      "metadata": {
        "colab": {
          "base_uri": "https://localhost:8080/"
        },
        "id": "hOH6uVyrKs5W",
        "outputId": "09058e28-064a-4df4-9813-7968416f59e7"
      },
      "execution_count": 25,
      "outputs": [
        {
          "output_type": "stream",
          "name": "stdout",
          "text": [
            "[2, 10]\n"
          ]
        }
      ]
    },
    {
      "cell_type": "code",
      "source": [
        "u = np.array([m, n, soma])\n",
        "origem = np.array([[0,0,0],[0,0,0]])\n",
        "\n",
        "plt.quiver(*origem, u[:,0], u[:,1], color=['r','g','y'], scale=40)\n",
        "plt.show();"
      ],
      "metadata": {
        "colab": {
          "base_uri": "https://localhost:8080/",
          "height": 265
        },
        "id": "VJFmcriX5D76",
        "outputId": "f530fb6c-d9cd-48a9-cde0-e2d697698e53"
      },
      "execution_count": 32,
      "outputs": [
        {
          "output_type": "display_data",
          "data": {
            "image/png": "[encoded data removed]",
            "text/plain": [
              "<Figure size 432x288 with 1 Axes>"
            ]
          },
          "metadata": {
            "needs_background": "light"
          }
        }
      ]
    },
    {
      "cell_type": "markdown",
      "source": [
        "- Matrizes"
      ],
      "metadata": {
        "id": "-fdb3dZ5YyGv"
      }
    },
    {
      "cell_type": "markdown",
      "source": [
        "criando uma matriz"
      ],
      "metadata": {
        "id": "H6VMHZcWY7aL"
      }
    },
    {
      "cell_type": "code",
      "source": [
        "matriz = [[1,-2,3],\n",
        "          [-4,5,6],\n",
        "          [7,8,-9]]"
      ],
      "metadata": {
        "id": "rV1zgUezYkF5"
      },
      "execution_count": 42,
      "outputs": []
    },
    {
      "cell_type": "code",
      "source": [
        "type(matriz)"
      ],
      "metadata": {
        "colab": {
          "base_uri": "https://localhost:8080/"
        },
        "id": "4Qo2KUOgZUBq",
        "outputId": "2079bd01-215d-493b-938e-319d89806914"
      },
      "execution_count": 43,
      "outputs": [
        {
          "output_type": "execute_result",
          "data": {
            "text/plain": [
              "list"
            ]
          },
          "metadata": {},
          "execution_count": 43
        }
      ]
    },
    {
      "cell_type": "code",
      "source": [
        "matriz1 = np.array(matriz)"
      ],
      "metadata": {
        "id": "DvHF5bPoZVN3"
      },
      "execution_count": 44,
      "outputs": []
    },
    {
      "cell_type": "code",
      "source": [
        "matriz1"
      ],
      "metadata": {
        "colab": {
          "base_uri": "https://localhost:8080/"
        },
        "id": "Sgq9EnmEZcPR",
        "outputId": "c20ac8a5-87bf-4916-cb1f-d9b2e562c7fd"
      },
      "execution_count": 45,
      "outputs": [
        {
          "output_type": "execute_result",
          "data": {
            "text/plain": [
              "array([[ 1, -2,  3],\n",
              "       [-4,  5,  6],\n",
              "       [ 7,  8, -9]])"
            ]
          },
          "metadata": {},
          "execution_count": 45
        }
      ]
    },
    {
      "cell_type": "code",
      "source": [
        "matriz1.shape"
      ],
      "metadata": {
        "colab": {
          "base_uri": "https://localhost:8080/"
        },
        "id": "NQNwrt-aZwAY",
        "outputId": "4b4170e4-85b6-4503-ba8a-4d5f8b565b52"
      },
      "execution_count": 46,
      "outputs": [
        {
          "output_type": "execute_result",
          "data": {
            "text/plain": [
              "(3, 3)"
            ]
          },
          "metadata": {},
          "execution_count": 46
        }
      ]
    },
    {
      "cell_type": "markdown",
      "source": [
        "matriz somente com o numero 1"
      ],
      "metadata": {
        "id": "4EKg1QDwbTIl"
      }
    },
    {
      "cell_type": "code",
      "source": [
        "matriz2 = np.ones((2,3))\n",
        "matriz2"
      ],
      "metadata": {
        "colab": {
          "base_uri": "https://localhost:8080/"
        },
        "id": "whJBgfIia4H9",
        "outputId": "2def7a86-3dd6-40e8-cca9-33e9a0c8bd53"
      },
      "execution_count": 51,
      "outputs": [
        {
          "output_type": "execute_result",
          "data": {
            "text/plain": [
              "array([[1., 1., 1.],\n",
              "       [1., 1., 1.]])"
            ]
          },
          "metadata": {},
          "execution_count": 51
        }
      ]
    },
    {
      "cell_type": "code",
      "source": [
        "type(matriz2)"
      ],
      "metadata": {
        "colab": {
          "base_uri": "https://localhost:8080/"
        },
        "id": "HjLEj13qba4s",
        "outputId": "14394e31-b1c2-422f-ac89-2afdc88ad945"
      },
      "execution_count": 52,
      "outputs": [
        {
          "output_type": "execute_result",
          "data": {
            "text/plain": [
              "numpy.ndarray"
            ]
          },
          "metadata": {},
          "execution_count": 52
        }
      ]
    },
    {
      "cell_type": "code",
      "source": [
        "matriz2.shape"
      ],
      "metadata": {
        "colab": {
          "base_uri": "https://localhost:8080/"
        },
        "id": "Sr5YCV13bgy4",
        "outputId": "483ec615-7801-4cf3-86fc-023342e4618b"
      },
      "execution_count": 53,
      "outputs": [
        {
          "output_type": "execute_result",
          "data": {
            "text/plain": [
              "(2, 3)"
            ]
          },
          "metadata": {},
          "execution_count": 53
        }
      ]
    },
    {
      "cell_type": "markdown",
      "source": [
        "Matriz nula"
      ],
      "metadata": {
        "id": "6yCVC0obbl5z"
      }
    },
    {
      "cell_type": "code",
      "source": [
        "matriz0 = np.zeros((5,4))\n",
        "matriz0"
      ],
      "metadata": {
        "colab": {
          "base_uri": "https://localhost:8080/"
        },
        "id": "-8i3uJRNbjOs",
        "outputId": "ea666750-3085-431d-be04-8e46ff37d7a3"
      },
      "execution_count": 54,
      "outputs": [
        {
          "output_type": "execute_result",
          "data": {
            "text/plain": [
              "array([[0., 0., 0., 0.],\n",
              "       [0., 0., 0., 0.],\n",
              "       [0., 0., 0., 0.],\n",
              "       [0., 0., 0., 0.],\n",
              "       [0., 0., 0., 0.]])"
            ]
          },
          "metadata": {},
          "execution_count": 54
        }
      ]
    },
    {
      "cell_type": "code",
      "source": [
        "matriz0.shape"
      ],
      "metadata": {
        "colab": {
          "base_uri": "https://localhost:8080/"
        },
        "id": "M02sDD-ib_TH",
        "outputId": "bc500934-ce56-4cd5-eb75-edd7ce4e8b1b"
      },
      "execution_count": 55,
      "outputs": [
        {
          "output_type": "execute_result",
          "data": {
            "text/plain": [
              "(5, 4)"
            ]
          },
          "metadata": {},
          "execution_count": 55
        }
      ]
    },
    {
      "cell_type": "markdown",
      "source": [
        "Matriz Diagonal"
      ],
      "metadata": {
        "id": "C4f_PIiPcDJw"
      }
    },
    {
      "cell_type": "code",
      "source": [
        "matriz3 = np.diag((2,4,6,8,10))\n",
        "matriz3"
      ],
      "metadata": {
        "colab": {
          "base_uri": "https://localhost:8080/"
        },
        "id": "F4HOH8rfcBNR",
        "outputId": "2f0987a7-3536-4ef8-b12d-c5016b665bbf"
      },
      "execution_count": 56,
      "outputs": [
        {
          "output_type": "execute_result",
          "data": {
            "text/plain": [
              "array([[ 2,  0,  0,  0,  0],\n",
              "       [ 0,  4,  0,  0,  0],\n",
              "       [ 0,  0,  6,  0,  0],\n",
              "       [ 0,  0,  0,  8,  0],\n",
              "       [ 0,  0,  0,  0, 10]])"
            ]
          },
          "metadata": {},
          "execution_count": 56
        }
      ]
    },
    {
      "cell_type": "markdown",
      "source": [
        "matriz identidade"
      ],
      "metadata": {
        "id": "y8Ht_SIhccmc"
      }
    },
    {
      "cell_type": "code",
      "source": [
        "matriz4 = np.identity(3) # ou np.eye\n",
        "matriz4"
      ],
      "metadata": {
        "colab": {
          "base_uri": "https://localhost:8080/"
        },
        "id": "P17OpIlqcQlw",
        "outputId": "16cb35ac-fa7c-4461-b5f2-1ff5ee0adfed"
      },
      "execution_count": 58,
      "outputs": [
        {
          "output_type": "execute_result",
          "data": {
            "text/plain": [
              "array([[1., 0., 0.],\n",
              "       [0., 1., 0.],\n",
              "       [0., 0., 1.]])"
            ]
          },
          "metadata": {},
          "execution_count": 58
        }
      ]
    },
    {
      "cell_type": "markdown",
      "source": [
        "matriz transposta"
      ],
      "metadata": {
        "id": "MODveHjVcwtE"
      }
    },
    {
      "cell_type": "code",
      "source": [
        "matriz1"
      ],
      "metadata": {
        "colab": {
          "base_uri": "https://localhost:8080/"
        },
        "id": "2wyExOLtcm6q",
        "outputId": "84b5c482-985f-4114-c624-2d7579ed34b9"
      },
      "execution_count": 59,
      "outputs": [
        {
          "output_type": "execute_result",
          "data": {
            "text/plain": [
              "array([[ 1, -2,  3],\n",
              "       [-4,  5,  6],\n",
              "       [ 7,  8, -9]])"
            ]
          },
          "metadata": {},
          "execution_count": 59
        }
      ]
    },
    {
      "cell_type": "code",
      "source": [
        "matriz5 = np.array(matriz1).T\n",
        "matriz5"
      ],
      "metadata": {
        "colab": {
          "base_uri": "https://localhost:8080/"
        },
        "id": "IM59y8TNdIrd",
        "outputId": "80792513-9f7f-4568-91d1-892b0132a41d"
      },
      "execution_count": 61,
      "outputs": [
        {
          "output_type": "execute_result",
          "data": {
            "text/plain": [
              "array([[ 1, -4,  7],\n",
              "       [-2,  5,  8],\n",
              "       [ 3,  6, -9]])"
            ]
          },
          "metadata": {},
          "execution_count": 61
        }
      ]
    },
    {
      "cell_type": "markdown",
      "source": [
        "matriz oposta"
      ],
      "metadata": {
        "id": "2cLlyr3XdnWV"
      }
    },
    {
      "cell_type": "code",
      "source": [
        "matriz6 = -1 * matriz1"
      ],
      "metadata": {
        "id": "ftXq_cn8dPDI"
      },
      "execution_count": 62,
      "outputs": []
    },
    {
      "cell_type": "code",
      "source": [
        "matriz6"
      ],
      "metadata": {
        "colab": {
          "base_uri": "https://localhost:8080/"
        },
        "id": "r-BiOxtZel_P",
        "outputId": "6bdbb115-3bd0-497d-b490-64fe3f8c76e1"
      },
      "execution_count": 64,
      "outputs": [
        {
          "output_type": "execute_result",
          "data": {
            "text/plain": [
              "array([[-1,  2, -3],\n",
              "       [ 4, -5, -6],\n",
              "       [-7, -8,  9]])"
            ]
          },
          "metadata": {},
          "execution_count": 64
        }
      ]
    },
    {
      "cell_type": "markdown",
      "source": [
        "matriz linha e matriz coluna"
      ],
      "metadata": {
        "id": "pHH88X3Fe42P"
      }
    },
    {
      "cell_type": "code",
      "source": [
        "#matriz linha\n",
        "linha = np.array([[2,3,4,5]])\n",
        "linha"
      ],
      "metadata": {
        "colab": {
          "base_uri": "https://localhost:8080/"
        },
        "id": "Nc0E442JenPQ",
        "outputId": "debe2a74-1a36-4027-81db-a4c152e74d91"
      },
      "execution_count": 65,
      "outputs": [
        {
          "output_type": "execute_result",
          "data": {
            "text/plain": [
              "array([[2, 3, 4, 5]])"
            ]
          },
          "metadata": {},
          "execution_count": 65
        }
      ]
    },
    {
      "cell_type": "code",
      "source": [
        "linha.shape"
      ],
      "metadata": {
        "colab": {
          "base_uri": "https://localhost:8080/"
        },
        "id": "z8JxfN2-fONf",
        "outputId": "d4bc38cd-3f81-4d2d-faef-ec11b46a09d9"
      },
      "execution_count": 66,
      "outputs": [
        {
          "output_type": "execute_result",
          "data": {
            "text/plain": [
              "(1, 4)"
            ]
          },
          "metadata": {},
          "execution_count": 66
        }
      ]
    },
    {
      "cell_type": "code",
      "source": [
        "#matriz coluna\n",
        "coluna = np.array([[2],[3],[4],[5]])\n",
        "coluna"
      ],
      "metadata": {
        "colab": {
          "base_uri": "https://localhost:8080/"
        },
        "id": "MwUJGEGufPui",
        "outputId": "0051e253-0757-4796-d4c1-7474bd2e91f8"
      },
      "execution_count": 68,
      "outputs": [
        {
          "output_type": "execute_result",
          "data": {
            "text/plain": [
              "array([[2],\n",
              "       [3],\n",
              "       [4],\n",
              "       [5]])"
            ]
          },
          "metadata": {},
          "execution_count": 68
        }
      ]
    },
    {
      "cell_type": "code",
      "source": [
        "coluna.shape"
      ],
      "metadata": {
        "colab": {
          "base_uri": "https://localhost:8080/"
        },
        "id": "YdmHbgPufd8S",
        "outputId": "b1c9bff2-66ca-4c24-ee18-f64e2b8b13ea"
      },
      "execution_count": 69,
      "outputs": [
        {
          "output_type": "execute_result",
          "data": {
            "text/plain": [
              "(4, 1)"
            ]
          },
          "metadata": {},
          "execution_count": 69
        }
      ]
    },
    {
      "cell_type": "markdown",
      "source": [
        "Manipulação de Matrizes"
      ],
      "metadata": {
        "id": "u-70We3xhBQV"
      }
    },
    {
      "cell_type": "code",
      "source": [
        "matriz1"
      ],
      "metadata": {
        "colab": {
          "base_uri": "https://localhost:8080/"
        },
        "id": "igv8Dx0mfk5w",
        "outputId": "40374782-ac31-4ee4-a090-f6045bc42cce"
      },
      "execution_count": 71,
      "outputs": [
        {
          "output_type": "execute_result",
          "data": {
            "text/plain": [
              "array([[ 1, -2,  3],\n",
              "       [-4,  5,  6],\n",
              "       [ 7,  8, -9]])"
            ]
          },
          "metadata": {},
          "execution_count": 71
        }
      ]
    },
    {
      "cell_type": "code",
      "source": [
        "matriz1[0,0]"
      ],
      "metadata": {
        "colab": {
          "base_uri": "https://localhost:8080/"
        },
        "id": "4navnwdJg_aL",
        "outputId": "0d8c961f-b63c-44b2-861a-f90b9fae00b4"
      },
      "execution_count": 72,
      "outputs": [
        {
          "output_type": "execute_result",
          "data": {
            "text/plain": [
              "1"
            ]
          },
          "metadata": {},
          "execution_count": 72
        }
      ]
    },
    {
      "cell_type": "code",
      "source": [
        "matriz1[0,1]"
      ],
      "metadata": {
        "colab": {
          "base_uri": "https://localhost:8080/"
        },
        "id": "-1CUw7IEhUFB",
        "outputId": "93ba0b58-ddc3-4e74-e0a4-dbf134cf2bba"
      },
      "execution_count": 73,
      "outputs": [
        {
          "output_type": "execute_result",
          "data": {
            "text/plain": [
              "-2"
            ]
          },
          "metadata": {},
          "execution_count": 73
        }
      ]
    },
    {
      "cell_type": "code",
      "source": [
        "matriz1[1,0]"
      ],
      "metadata": {
        "colab": {
          "base_uri": "https://localhost:8080/"
        },
        "id": "oBifGkeahXnZ",
        "outputId": "7c757e67-ce20-4fad-c44f-e188479be65f"
      },
      "execution_count": 76,
      "outputs": [
        {
          "output_type": "execute_result",
          "data": {
            "text/plain": [
              "-4"
            ]
          },
          "metadata": {},
          "execution_count": 76
        }
      ]
    },
    {
      "cell_type": "code",
      "source": [
        "matriz1[1,2]"
      ],
      "metadata": {
        "colab": {
          "base_uri": "https://localhost:8080/"
        },
        "id": "6w84DL1YhrR_",
        "outputId": "5ae7a672-29e2-4b62-fda5-3df79bc55a37"
      },
      "execution_count": 78,
      "outputs": [
        {
          "output_type": "execute_result",
          "data": {
            "text/plain": [
              "6"
            ]
          },
          "metadata": {},
          "execution_count": 78
        }
      ]
    },
    {
      "cell_type": "code",
      "source": [
        "matriz1[2,2]"
      ],
      "metadata": {
        "colab": {
          "base_uri": "https://localhost:8080/"
        },
        "id": "isq3Dm34hy8d",
        "outputId": "a9146265-5b9d-4ee1-ca23-4fb5da2f260a"
      },
      "execution_count": 80,
      "outputs": [
        {
          "output_type": "execute_result",
          "data": {
            "text/plain": [
              "-9"
            ]
          },
          "metadata": {},
          "execution_count": 80
        }
      ]
    },
    {
      "cell_type": "code",
      "source": [
        "matriz1[:]"
      ],
      "metadata": {
        "colab": {
          "base_uri": "https://localhost:8080/"
        },
        "id": "vEQNL1chh31Z",
        "outputId": "29443535-22d0-45e6-ad8c-c30a8981bec3"
      },
      "execution_count": 81,
      "outputs": [
        {
          "output_type": "execute_result",
          "data": {
            "text/plain": [
              "array([[ 1, -2,  3],\n",
              "       [-4,  5,  6],\n",
              "       [ 7,  8, -9]])"
            ]
          },
          "metadata": {},
          "execution_count": 81
        }
      ]
    },
    {
      "cell_type": "code",
      "source": [
        "matriz1[2,:]   # (linha, coluna)"
      ],
      "metadata": {
        "colab": {
          "base_uri": "https://localhost:8080/"
        },
        "id": "ZJryfAewh_8A",
        "outputId": "589752fe-e34b-4807-9fb9-b6aa045f3552"
      },
      "execution_count": 84,
      "outputs": [
        {
          "output_type": "execute_result",
          "data": {
            "text/plain": [
              "array([ 7,  8, -9])"
            ]
          },
          "metadata": {},
          "execution_count": 84
        }
      ]
    },
    {
      "cell_type": "code",
      "source": [
        "matriz1[:,2]"
      ],
      "metadata": {
        "colab": {
          "base_uri": "https://localhost:8080/"
        },
        "id": "gZxJilMPim8M",
        "outputId": "535ee59c-b372-4588-9d25-7d7e6205dd2d"
      },
      "execution_count": 83,
      "outputs": [
        {
          "output_type": "execute_result",
          "data": {
            "text/plain": [
              "array([ 3,  6, -9])"
            ]
          },
          "metadata": {},
          "execution_count": 83
        }
      ]
    },
    {
      "cell_type": "markdown",
      "source": [
        "Operações com Matrizes"
      ],
      "metadata": {
        "id": "cMFTC4J7j20o"
      }
    },
    {
      "cell_type": "code",
      "source": [
        "matrizA = np.array([[2,-3],\n",
        "                   [4,-6],\n",
        "                   [6,9]])"
      ],
      "metadata": {
        "id": "NCvvsK7diqc6"
      },
      "execution_count": 86,
      "outputs": []
    },
    {
      "cell_type": "code",
      "source": [
        "matrizA"
      ],
      "metadata": {
        "colab": {
          "base_uri": "https://localhost:8080/"
        },
        "id": "AdUyA4eCkWyZ",
        "outputId": "a290dba3-1d18-4a88-85de-ec3061dba34c"
      },
      "execution_count": 87,
      "outputs": [
        {
          "output_type": "execute_result",
          "data": {
            "text/plain": [
              "array([[ 2, -3],\n",
              "       [ 4, -6],\n",
              "       [ 6,  9]])"
            ]
          },
          "metadata": {},
          "execution_count": 87
        }
      ]
    },
    {
      "cell_type": "code",
      "source": [
        "matrizB = np.array([[1,7],\n",
        "                    [-3,4],\n",
        "                    [5,-8]])"
      ],
      "metadata": {
        "id": "fN4HIZSQkXp0"
      },
      "execution_count": 88,
      "outputs": []
    },
    {
      "cell_type": "code",
      "source": [
        "matrizB"
      ],
      "metadata": {
        "colab": {
          "base_uri": "https://localhost:8080/"
        },
        "id": "k5d6ZHCLkjbe",
        "outputId": "c10b8b4b-2660-4870-942f-9a9ea136640a"
      },
      "execution_count": 89,
      "outputs": [
        {
          "output_type": "execute_result",
          "data": {
            "text/plain": [
              "array([[ 1,  7],\n",
              "       [-3,  4],\n",
              "       [ 5, -8]])"
            ]
          },
          "metadata": {},
          "execution_count": 89
        }
      ]
    },
    {
      "cell_type": "code",
      "source": [
        "#soma\n",
        "somaAB = matrizA + matrizB\n",
        "somaAB"
      ],
      "metadata": {
        "colab": {
          "base_uri": "https://localhost:8080/"
        },
        "id": "s4zrVMQzkkWC",
        "outputId": "51ecd2cc-c142-4020-fa08-3cffd9690c49"
      },
      "execution_count": 90,
      "outputs": [
        {
          "output_type": "execute_result",
          "data": {
            "text/plain": [
              "array([[ 3,  4],\n",
              "       [ 1, -2],\n",
              "       [11,  1]])"
            ]
          },
          "metadata": {},
          "execution_count": 90
        }
      ]
    },
    {
      "cell_type": "code",
      "source": [
        "somaBA = matrizB + matrizA\n",
        "somaBA"
      ],
      "metadata": {
        "colab": {
          "base_uri": "https://localhost:8080/"
        },
        "id": "rh6jThCxlFeK",
        "outputId": "8444f6b1-a560-40ed-aa94-8065c492c0cb"
      },
      "execution_count": 91,
      "outputs": [
        {
          "output_type": "execute_result",
          "data": {
            "text/plain": [
              "array([[ 3,  4],\n",
              "       [ 1, -2],\n",
              "       [11,  1]])"
            ]
          },
          "metadata": {},
          "execution_count": 91
        }
      ]
    },
    {
      "cell_type": "code",
      "source": [
        "#subtração\n",
        "subAB = matrizA -  matrizB\n",
        "subAB"
      ],
      "metadata": {
        "colab": {
          "base_uri": "https://localhost:8080/"
        },
        "id": "WUzwfoimlNL2",
        "outputId": "6c19f89d-acc3-4281-ee33-7ffc1eeea515"
      },
      "execution_count": 92,
      "outputs": [
        {
          "output_type": "execute_result",
          "data": {
            "text/plain": [
              "array([[  1, -10],\n",
              "       [  7, -10],\n",
              "       [  1,  17]])"
            ]
          },
          "metadata": {},
          "execution_count": 92
        }
      ]
    },
    {
      "cell_type": "code",
      "source": [
        "subBA = matrizB - matrizA\n",
        "subBA"
      ],
      "metadata": {
        "colab": {
          "base_uri": "https://localhost:8080/"
        },
        "id": "gj71fsOzlccv",
        "outputId": "0d30c995-6b06-427b-bb03-e0ec0a7acb26"
      },
      "execution_count": 93,
      "outputs": [
        {
          "output_type": "execute_result",
          "data": {
            "text/plain": [
              "array([[ -1,  10],\n",
              "       [ -7,  10],\n",
              "       [ -1, -17]])"
            ]
          },
          "metadata": {},
          "execution_count": 93
        }
      ]
    },
    {
      "cell_type": "code",
      "source": [
        "#multiplicção por escalar\n",
        "mult = -3 * matrizB\n",
        "mult"
      ],
      "metadata": {
        "colab": {
          "base_uri": "https://localhost:8080/"
        },
        "id": "dkKGhQMcliAB",
        "outputId": "20d6c307-b3ef-4619-abc0-36b37b2fdfd9"
      },
      "execution_count": 95,
      "outputs": [
        {
          "output_type": "execute_result",
          "data": {
            "text/plain": [
              "array([[ -3, -21],\n",
              "       [  9, -12],\n",
              "       [-15,  24]])"
            ]
          },
          "metadata": {},
          "execution_count": 95
        }
      ]
    },
    {
      "cell_type": "code",
      "source": [
        "#mult entre matrizes\n",
        "matrizC = np.array([[2,1],\n",
        "                    [3,4],\n",
        "                    [5,6]])"
      ],
      "metadata": {
        "id": "iO4WfOW5l5_R"
      },
      "execution_count": 98,
      "outputs": []
    },
    {
      "cell_type": "code",
      "source": [
        "matrizD = np.array([[7,8,0],\n",
        "                    [10,5,-2]])"
      ],
      "metadata": {
        "id": "cul2sMS5mKDQ"
      },
      "execution_count": 101,
      "outputs": []
    },
    {
      "cell_type": "code",
      "source": [
        "multCD = np.dot(matrizC,matrizD)\n",
        "multCD"
      ],
      "metadata": {
        "colab": {
          "base_uri": "https://localhost:8080/"
        },
        "id": "YIw1zjgPmxH6",
        "outputId": "36f876ac-089f-4631-cb86-4c81f148f766"
      },
      "execution_count": 102,
      "outputs": [
        {
          "output_type": "execute_result",
          "data": {
            "text/plain": [
              "array([[ 24,  21,  -2],\n",
              "       [ 61,  44,  -8],\n",
              "       [ 95,  70, -12]])"
            ]
          },
          "metadata": {},
          "execution_count": 102
        }
      ]
    },
    {
      "cell_type": "markdown",
      "source": [
        "- Determinante e matriz Inversa"
      ],
      "metadata": {
        "id": "P5CmzH7knTGu"
      }
    },
    {
      "cell_type": "code",
      "source": [
        "matriz_1 = np.array([[2,5],\n",
        "                     [1,3]])"
      ],
      "metadata": {
        "id": "5mS6_m8sm6_L"
      },
      "execution_count": 103,
      "outputs": []
    },
    {
      "cell_type": "code",
      "source": [
        "matriz_2 = np.array([[3,-5],\n",
        "                     [-1,2]])"
      ],
      "metadata": {
        "id": "SG6W-FGpn1ag"
      },
      "execution_count": 104,
      "outputs": []
    },
    {
      "cell_type": "code",
      "source": [
        "multiplicacao = np.dot(matriz_1, matriz_2)\n",
        "multiplicacao # deu a matriz ident pois uma é a inversa da outra"
      ],
      "metadata": {
        "colab": {
          "base_uri": "https://localhost:8080/"
        },
        "id": "yd3cFUf6n_B4",
        "outputId": "1fb8c84d-1ffc-48c8-c3ac-a87b5d24038b"
      },
      "execution_count": 108,
      "outputs": [
        {
          "output_type": "execute_result",
          "data": {
            "text/plain": [
              "array([[1, 0],\n",
              "       [0, 1]])"
            ]
          },
          "metadata": {},
          "execution_count": 108
        }
      ]
    },
    {
      "cell_type": "markdown",
      "source": [
        "Matriz Inversa"
      ],
      "metadata": {
        "id": "QNhj2gfFoOeB"
      }
    },
    {
      "cell_type": "code",
      "source": [
        "matriz_inversa = np.linalg.inv(matriz_1)\n",
        "matriz_inversa"
      ],
      "metadata": {
        "colab": {
          "base_uri": "https://localhost:8080/"
        },
        "id": "KGgHcFcMoKN3",
        "outputId": "a552df81-9aeb-4163-ded2-7f736109b284"
      },
      "execution_count": 106,
      "outputs": [
        {
          "output_type": "execute_result",
          "data": {
            "text/plain": [
              "array([[ 3., -5.],\n",
              "       [-1.,  2.]])"
            ]
          },
          "metadata": {},
          "execution_count": 106
        }
      ]
    },
    {
      "cell_type": "code",
      "source": [
        "matriz_inv = np.linalg.inv(matriz_2)\n",
        "matriz_inv"
      ],
      "metadata": {
        "colab": {
          "base_uri": "https://localhost:8080/"
        },
        "id": "7uMdBiIXofrz",
        "outputId": "9b15a48f-eafd-4d5f-82d0-75a95d23d954"
      },
      "execution_count": 107,
      "outputs": [
        {
          "output_type": "execute_result",
          "data": {
            "text/plain": [
              "array([[2., 5.],\n",
              "       [1., 3.]])"
            ]
          },
          "metadata": {},
          "execution_count": 107
        }
      ]
    },
    {
      "cell_type": "markdown",
      "source": [
        "Determinante"
      ],
      "metadata": {
        "id": "V9uRIIn7pRG3"
      }
    },
    {
      "cell_type": "code",
      "source": [
        "det = np.linalg.det(matriz_1)\n",
        "det"
      ],
      "metadata": {
        "colab": {
          "base_uri": "https://localhost:8080/"
        },
        "id": "dQC5T859osch",
        "outputId": "c3bf3e87-40a3-4f80-e114-5a1db177b367"
      },
      "execution_count": 109,
      "outputs": [
        {
          "output_type": "execute_result",
          "data": {
            "text/plain": [
              "1.0"
            ]
          },
          "metadata": {},
          "execution_count": 109
        }
      ]
    },
    {
      "cell_type": "code",
      "source": [
        "det2 = np.linalg.det(matriz_2)\n",
        "det2"
      ],
      "metadata": {
        "colab": {
          "base_uri": "https://localhost:8080/"
        },
        "id": "b3M3qWGYpaHV",
        "outputId": "3225fd39-8107-4dae-e6bf-2040d99bde45"
      },
      "execution_count": 110,
      "outputs": [
        {
          "output_type": "execute_result",
          "data": {
            "text/plain": [
              "1.0000000000000004"
            ]
          },
          "metadata": {},
          "execution_count": 110
        }
      ]
    },
    {
      "cell_type": "markdown",
      "source": [
        "ou....\n"
      ],
      "metadata": {
        "id": "rSYqZWHlpjlQ"
      }
    },
    {
      "cell_type": "code",
      "source": [
        "from scipy import linalg\n",
        "import scipy as sp"
      ],
      "metadata": {
        "id": "LkvmLuO5pfy8"
      },
      "execution_count": 112,
      "outputs": []
    },
    {
      "cell_type": "code",
      "source": [
        "det = sp.linalg.det(matriz1)"
      ],
      "metadata": {
        "id": "saDkMz30pp6u"
      },
      "execution_count": 113,
      "outputs": []
    },
    {
      "cell_type": "code",
      "source": [
        "det"
      ],
      "metadata": {
        "colab": {
          "base_uri": "https://localhost:8080/"
        },
        "id": "0kMAc5Vtp48j",
        "outputId": "f856e4ea-bc76-40e0-9149-b17e82ab8c64"
      },
      "execution_count": 114,
      "outputs": [
        {
          "output_type": "execute_result",
          "data": {
            "text/plain": [
              "-305.99999999999994"
            ]
          },
          "metadata": {},
          "execution_count": 114
        }
      ]
    },
    {
      "cell_type": "code",
      "source": [
        "det = sp.linalg.det(matriz5)\n",
        "det"
      ],
      "metadata": {
        "colab": {
          "base_uri": "https://localhost:8080/"
        },
        "id": "m9pnbx4ap5hN",
        "outputId": "2588623d-26f7-483a-864b-15acf8252a85"
      },
      "execution_count": 116,
      "outputs": [
        {
          "output_type": "execute_result",
          "data": {
            "text/plain": [
              "-305.99999999999994"
            ]
          },
          "metadata": {},
          "execution_count": 116
        }
      ]
    }
  ]
}